{
 "cells": [
  {
   "cell_type": "code",
   "execution_count": 2,
   "id": "b2c45656",
   "metadata": {},
   "outputs": [
    {
     "name": "stdout",
     "output_type": "stream",
     "text": [
      "No se encontró el archivo\n",
      "Finaliza el codigo\n"
     ]
    }
   ],
   "source": [
    "import csv\n",
    "import os\n",
    "#file=open(r'./text.txt')\n",
    "#csvreader=csv.reader(file)\n",
    "try:\n",
    "    archivo = open(\"test.txt\", \"r\")\n",
    "except:\n",
    "    print('No se encontró el archivo')\n",
    "else:\n",
    "    print('Se cierra el archivo ')\n",
    "    archivo.close()\n",
    "finally:\n",
    "    print('Finaliza el codigo')\n",
    "\n"
   ]
  },
  {
   "cell_type": "code",
   "execution_count": null,
   "id": "55e022c5",
   "metadata": {},
   "outputs": [],
   "source": [
    "a=8\n",
    "b=3\n",
    "c=4\n",
    "d=1\n",
    "divisor=0\n",
    "try:\n",
    "    result=(a+b+c+d)//0\n",
    "except ZeroDivisionError:\n",
    "    print('Division para cereo')\n",
    "else:\n",
    "    print(result)\n"
   ]
  }
 ],
 "metadata": {
  "kernelspec": {
   "display_name": "base",
   "language": "python",
   "name": "python3"
  },
  "language_info": {
   "codemirror_mode": {
    "name": "ipython",
    "version": 3
   },
   "file_extension": ".py",
   "mimetype": "text/x-python",
   "name": "python",
   "nbconvert_exporter": "python",
   "pygments_lexer": "ipython3",
   "version": "3.12.7"
  }
 },
 "nbformat": 4,
 "nbformat_minor": 5
}
